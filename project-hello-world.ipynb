{
 "cells": [
  {
   "cell_type": "markdown",
   "metadata": {},
   "source": [
    "# Assignment\n",
    "\n",
    "This is a simple hello world assignment. Hello worlds are simple assignments meant to introduce you to the platform and the process of submitting your code. They indicate that you have set up the environment successfully and are ready to start coding.\n",
    "\n",
    "Below, all you need to do is print \"Hello World\" to the console, using the Python programming language in a code cell. Typically, hello world is all you need, but any string is acceptable (as long as it is appropriate). "
   ]
  },
  {
   "cell_type": "markdown",
   "metadata": {},
   "source": []
  }
 ],
 "metadata": {
  "language_info": {
   "name": "python"
  }
 },
 "nbformat": 4,
 "nbformat_minor": 2
}
